{
 "cells": [
  {
   "cell_type": "code",
   "execution_count": 1,
   "id": "4849dabc",
   "metadata": {},
   "outputs": [],
   "source": [
    "# Konyvtarak importalasa\n",
    "\n",
    "from bs4 import BeautifulSoup\n",
    "\n",
    "import requests\n",
    "\n",
    "import time\n",
    "\n",
    "import datetime\n",
    "\n",
    "import smtplib"
   ]
  },
  {
   "cell_type": "code",
   "execution_count": 2,
   "id": "5ca6bcf2",
   "metadata": {},
   "outputs": [
    {
     "name": "stdout",
     "output_type": "stream",
     "text": [
      "\n",
      "             Silver Buffalo Star Wars Death Star 3D Sculpted Ceramic Mug, 20 Ounces\n",
      "            \n",
      "\n",
      "                          $19.99\n",
      "                         \n"
     ]
    }
   ],
   "source": [
    "# Csatlakozás a weboldalhoz\n",
    "\n",
    "URL = 'https://www.amazon.com/Silver-Buffalo-Sculpted-Ceramic-Cappuccino/dp/B01N2Y57WL/ref=sr_1_55?keywords=geek+coffee+mug&sr=8-55'\n",
    "\n",
    "headers = {\n",
    "    \"User-Agent\": \"Mozilla/5.0 (Windows NT 10.0; Win64; x64) AppleWebKit/537.36 (KHTML, like Gecko) Chrome/113.0.0.0 Safari/537.36\",\n",
    "        \"Referer\": \"https://www.youtube.com/\"\n",
    "}\n",
    "\n",
    "# Kérés küldése a weboldalhoz\n",
    "page = requests.get(URL, headers=headers)\n",
    "\n",
    "# BeautifulSoup objektumok létrehozása\n",
    "soup1 = BeautifulSoup(page.content, 'html.parser')\n",
    "soup2 = BeautifulSoup(soup1.prettify(), 'html.parser')\n",
    "\n",
    "# A termék címének kinyerése\n",
    "title = soup2.find(id=\"productTitle\").get_text()\n",
    "\n",
    "# A termék árának kinyerése\n",
    "price = soup2.find('span', {'class':'a-offscreen'}).get_text()\n",
    "\n",
    "# A cím és az ár kiíratása\n",
    "print(title)\n",
    "print(price)"
   ]
  },
  {
   "cell_type": "code",
   "execution_count": 3,
   "id": "5ff994d8",
   "metadata": {},
   "outputs": [
    {
     "name": "stdout",
     "output_type": "stream",
     "text": [
      "Silver Buffalo Star Wars Death Star 3D Sculpted Ceramic Mug, 20 Ounces\n",
      "19.99\n"
     ]
    }
   ],
   "source": [
    "# Adatok tisztítása\n",
    "\n",
    "price = price.strip()[1:]\n",
    "title = title.strip()\n",
    "\n",
    "print(title)\n",
    "print(price)"
   ]
  },
  {
   "cell_type": "code",
   "execution_count": 4,
   "id": "c3660cae",
   "metadata": {},
   "outputs": [
    {
     "name": "stdout",
     "output_type": "stream",
     "text": [
      "2023-05-27\n"
     ]
    }
   ],
   "source": [
    "# Létrehoz egy időbélyeget a kimenethez, hogy követhető legyen, mikor lett gyűjtve az adat\n",
    "\n",
    "import datetime\n",
    "\n",
    "today = datetime.date.today()\n",
    "\n",
    "print(today)"
   ]
  },
  {
   "cell_type": "code",
   "execution_count": 5,
   "id": "a6554a81",
   "metadata": {},
   "outputs": [],
   "source": [
    "import csv\n",
    "\n",
    "# Header és adat meghatározása.\n",
    "header = ['Title', 'Price', 'Date']\n",
    "data = [title, price, today]\n",
    "\n",
    "# Megnyitja a CSV fájlt írás módban, majd beírja a header-t és az adatokat\n",
    "with open('AmazonWebScraperDataset.csv', 'w', newline='', encoding='UTF8') as f:\n",
    "    writer = csv.writer(f)\n",
    "    writer.writerow(header)\n",
    "    writer.writerow(data)"
   ]
  },
  {
   "cell_type": "code",
   "execution_count": 6,
   "id": "fa79fce5",
   "metadata": {},
   "outputs": [
    {
     "name": "stdout",
     "output_type": "stream",
     "text": [
      "                                               Title  Price        Date\n",
      "0  Silver Buffalo Star Wars Death Star 3D Sculpte...  19.99  2023-05-27\n"
     ]
    }
   ],
   "source": [
    "import pandas as pd\n",
    "\n",
    "# Olvassa be a CSV fájlt egy pandas DataFrame-be\n",
    "df = pd.read_csv(r'C:\\Users\\lacib\\AmazonWebScraperDataset.csv')\n",
    "\n",
    "print(df)"
   ]
  },
  {
   "cell_type": "code",
   "execution_count": null,
   "id": "35b45e78",
   "metadata": {},
   "outputs": [],
   "source": [
    "# Most adatot fűzünk a CSV fájlhoz\n",
    "with open('AmazonWebScraperDataset.csv', 'a+', newline='', encoding='UTF8') as f:\n",
    "    writer = csv.writer(f)\n",
    "    writer.writerow(data)"
   ]
  },
  {
   "cell_type": "code",
   "execution_count": 7,
   "id": "74383c60",
   "metadata": {},
   "outputs": [],
   "source": [
    "# Az összes kombinálása egyetlen funkcióba.\n",
    "\n",
    "def check_price():\n",
    "    URL = 'https://www.amazon.com/Silver-Buffalo-Sculpted-Ceramic-Cappuccino/dp/B01N2Y57WL/ref=sr_1_55?keywords=geek+coffee+mug&sr=8-55'\n",
    "\n",
    "    headers = {\n",
    "        \"User-Agent\": \"Mozilla/5.0 (Windows NT 10.0; Win64; x64) AppleWebKit/537.36 (KHTML, like Gecko) Chrome/113.0.0.0 Safari/537.36\",\n",
    "        \"Referer\": \"https://www.youtube.com/\"\n",
    "    }\n",
    "\n",
    "    page = requests.get(URL, headers=headers)\n",
    "\n",
    "    soup1 = BeautifulSoup(page.content, 'html.parser')\n",
    "    soup2 = BeautifulSoup(soup1.prettify(), 'html.parser')\n",
    "\n",
    "    title = soup2.find(id=\"productTitle\").get_text()\n",
    "\n",
    "    price = soup2.find('span', {'class':'a-offscreen'}).get_text()\n",
    "    \n",
    "    price = price.strip()[1:]\n",
    "    title = title.strip()\n",
    "    \n",
    "    import datetime\n",
    "    \n",
    "    today = datetime.date.today()\n",
    "\n",
    "    header = ['Title', 'Price', 'Date']\n",
    "    data = [title, price, today]\n",
    "    \n",
    "    with open('AmazonWebScraperDataset.csv', 'a+', newline='', encoding='UTF8') as f:\n",
    "        writer = csv.writer(f)\n",
    "        writer.writerow(data)\n",
    "    "
   ]
  },
  {
   "cell_type": "code",
   "execution_count": null,
   "id": "a5fce861",
   "metadata": {},
   "outputs": [],
   "source": [
    "# Ellenőrzi az árat egy beállított idő után, majd adatokat helyez a CSV fájlba\n",
    "\n",
    "while(True):\n",
    "    check_price()\n",
    "    time.sleep(86400)"
   ]
  },
  {
   "cell_type": "code",
   "execution_count": null,
   "id": "9bc13da7",
   "metadata": {},
   "outputs": [],
   "source": [
    "import pandas as pd\n",
    "\n",
    "df = pd.read_csv(r'C:\\Users\\alexf\\AmazonWebScraperDataset.csv')\n",
    "\n",
    "print(df)"
   ]
  },
  {
   "cell_type": "code",
   "execution_count": null,
   "id": "54b3fde8",
   "metadata": {},
   "outputs": [],
   "source": []
  }
 ],
 "metadata": {
  "kernelspec": {
   "display_name": "Python 3 (ipykernel)",
   "language": "python",
   "name": "python3"
  },
  "language_info": {
   "codemirror_mode": {
    "name": "ipython",
    "version": 3
   },
   "file_extension": ".py",
   "mimetype": "text/x-python",
   "name": "python",
   "nbconvert_exporter": "python",
   "pygments_lexer": "ipython3",
   "version": "3.10.9"
  }
 },
 "nbformat": 4,
 "nbformat_minor": 5
}
